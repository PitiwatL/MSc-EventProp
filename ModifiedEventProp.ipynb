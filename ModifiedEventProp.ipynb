{
 "cells": [
  {
   "cell_type": "code",
   "execution_count": 2,
   "metadata": {},
   "outputs": [],
   "source": [
    "import torch\n",
    "import torch.nn as nn\n",
    "import torch.nn.init as init\n",
    "import torch.nn.functional as F\n",
    "\n",
    "import argparse, torch, random\n",
    "import numpy as np\n",
    "from torchvision import datasets, transforms\n",
    "import torch.nn.functional as F\n",
    "\n",
    "import tqdm \n",
    "from tqdm import tqdm\n",
    "from snntorch import spikegen\n",
    "import matplotlib.pyplot as plt\n",
    "# from models import SNN, SpikeCELoss\n",
    "\n",
    "device = torch.device('cuda' if torch.cuda.is_available() else 'cpu')"
   ]
  },
  {
   "cell_type": "code",
   "execution_count": 3,
   "metadata": {},
   "outputs": [],
   "source": [
    "class WrapperFunction(torch.autograd.Function):\n",
    "    @staticmethod\n",
    "    def forward(ctx, input, params, forward, backward):\n",
    "        ctx.backward = backward\n",
    "        pack, output = forward(input)\n",
    "        ctx.save_for_backward(*pack)\n",
    "        return output\n",
    "\n",
    "    @staticmethod\n",
    "    def backward(ctx, grad_output): # return gradient\n",
    "        backward = ctx.backward\n",
    "        pack     = ctx.saved_tensors\n",
    "        grad_input, grad_weight = backward(grad_output, *pack)\n",
    "        return grad_input, grad_weight, None, None\n",
    "\n",
    "class FirstSpikeTime(torch.autograd.Function):\n",
    "    @staticmethod\n",
    "    def forward(ctx, input):   \n",
    "        idx = torch.arange(input.shape[2], 0, -1).unsqueeze(0).unsqueeze(0).float().to(device)\n",
    "        first_spike_times = torch.argmax(idx*input, dim=2).float()\n",
    "        ctx.save_for_backward(input, first_spike_times.clone())\n",
    "        first_spike_times[first_spike_times==0] = input.shape[2]-1\n",
    "        return first_spike_times\n",
    "    \n",
    "    @staticmethod\n",
    "    def backward(ctx, grad_output):\n",
    "        input, first_spike_times = ctx.saved_tensors\n",
    "        k = F.one_hot(first_spike_times.long(), input.shape[2]).float()\n",
    "        grad_input = k * grad_output.unsqueeze(-1)\n",
    "        return grad_input"
   ]
  },
  {
   "cell_type": "code",
   "execution_count": 4,
   "metadata": {},
   "outputs": [],
   "source": [
    "'''  \n",
    "    Input ->  [Batch, 784, 20] [Batch, ] : Current (cur)\n",
    "    V     ->  [Batch, 10, 20] [Batch, ] : Voltage\n",
    "    tau_m ->  [Batch, 10, 20] : Membrane Time Constant\n",
    "    tau_s ->  [Batch, 10, 20] : Synaptic Time Constant\n",
    "    spikes -> sending Threshold [128, 10]\n",
    "    output -> [Batch, 10, 20]\n",
    "    current -> Can refer to input\n",
    "'''\n",
    "\n",
    "class SpikingLinear(nn.Module):\n",
    "    def __init__(self, input_dim, output_dim, T, dt, tau_m, tau_s, mu):\n",
    "        super(SpikingLinear, self).__init__()\n",
    "        self.input_dim = input_dim\n",
    "        self.output_dim = output_dim\n",
    "        self.T  = T\n",
    "        self.dt = dt\n",
    "        self.tau_m  = tau_m\n",
    "        self.tau_s  = tau_s\n",
    "        \n",
    "        self.weight = nn.Parameter(torch.Tensor(output_dim, input_dim)) # [10, 784]\n",
    "        nn.init.normal_(self.weight, mu, mu)\n",
    "        \n",
    "        # self.forward = lambda input : WrapperFunction.apply(input, self.weight, self.manual_forward, self.manual_backward)\n",
    "        \n",
    "    def manual_forward(self, input):\n",
    "        steps = int(self.T / self.dt)\n",
    "    \n",
    "        V      = torch.zeros(input.shape[0], self.output_dim, steps).to(device)\n",
    "        I      = torch.zeros(input.shape[0], self.output_dim, steps).to(device)\n",
    "        output = torch.zeros(input.shape[0], self.output_dim, steps).to(device)\n",
    "\n",
    "        while True:\n",
    "            for i in range(1, steps):\n",
    "                t = i * self.dt\n",
    "                V[:,:,i] = (1 - self.dt / self.tau_m) * V[:,:,i-1] + (self.dt / self.tau_m) * I[:,:,i-1] \n",
    "                I[:,:,i] = (1 - self.dt / self.tau_s) * I[:,:,i-1] + F.linear(input[:,:,i-1].float(), self.weight) # Linear trans WX\n",
    "                \n",
    "                spikes   = (V[:,:,i] > 1.0).float()\n",
    "     \n",
    "                output[:,:,i] = spikes\n",
    "                # print(output.shape)\n",
    "                V[:,:,i] = (1-spikes) * V[:,:,i]\n",
    "\n",
    "            \"\"\"\n",
    "            Add small values (1e-1) for silent neurons ensuring a more robust and active network.\n",
    "            self.training : Checks training state\n",
    "            is_silent = output.sum(2).min(0)[0] == 0 # Checks if there are no silent neurons.\n",
    "            \"\"\"\n",
    "            if self.training: \n",
    "                is_silent = output.sum(2).min(0)[0] == 0 \n",
    "                self.weight.data[is_silent] = self.weight.data[is_silent] + 1e-1\n",
    "                if is_silent.sum() == 0:\n",
    "                    break\n",
    "            else:\n",
    "                break\n",
    "\n",
    "        return (input, I, output), output\n",
    "    \n",
    "    def manual_backward(self, grad_output, input, I, post_spikes):\n",
    "        steps = int(self.T / self.dt)\n",
    "                \n",
    "        lambda_V = torch.zeros(input.shape[0], self.output_dim, steps).to(device)\n",
    "        lambda_I = torch.zeros(input.shape[0], self.output_dim, steps).to(device)\n",
    "        \n",
    "        grad_input  = torch.zeros(input.shape[0], input.shape[1], steps).to(device)\n",
    "        grad_weight = torch.zeros(input.shape[0], * self.weight.shape).to(device)\n",
    "        \n",
    "        for i in range(steps-2, -1, -1): # go backwards from (steps-2) to 0\n",
    "            t            = i * self.dt\n",
    "            delta        = (lambda_V[:,:,i+1] - lambda_I[:,:,i+1])\n",
    "            grad_input[:,:,i] = F.linear(delta, self.weight.t())\n",
    "            lambda_V[:,:,i]   = (1 - self.dt / self.tau_m) * lambda_V[:,:,i+1] + post_spikes[:,:,i+1] * (lambda_V[:,:,i+1] + grad_output[:,:,i+1]) / (I[:,:,i] - 1 + 1e-10)\n",
    "            lambda_I[:,:,i]   = lambda_I[:,:,i+1] + (self.dt / self.tau_s) * (lambda_V[:,:,i+1] - lambda_I[:,:,i+1])\n",
    "            spike_bool        = input[:,:,i].float()\n",
    "            grad_weight      -= (spike_bool.unsqueeze(1) * lambda_I[:,:,i].unsqueeze(2))\n",
    "        \n",
    "        return grad_input, grad_weight\n",
    "    \n",
    "    def forward(self, input):\n",
    "        '''\n",
    "        WrapperFunction.apply to make use of autograd system it triggers the execution of forward and backward system\n",
    "        self.manual_forward, self.manual_backward are called here!\n",
    "        '''\n",
    "        return WrapperFunction.apply(input, self.weight, self.manual_forward, self.manual_backward)"
   ]
  },
  {
   "cell_type": "code",
   "execution_count": 5,
   "metadata": {},
   "outputs": [],
   "source": [
    "class SNN(nn.Module):\n",
    "    def __init__(self, input_dim, output_dim, T, dt, tau_m, tau_s):\n",
    "        super(SNN, self).__init__()\n",
    "        self.slinear1 = SpikingLinear(input_dim, 256, T, dt, tau_m, tau_s, 0.1) # 0.1 mu\n",
    "        self.slinear2 = SpikingLinear(256, 10, T, dt, tau_m, tau_s, 0.1) # 0.1 mu\n",
    "        self.outact   = FirstSpikeTime.apply # Why we need outact? but it returns first_spike_times I think it's similar to softmax to produce results\n",
    "        \n",
    "    def forward(self, input):     \n",
    "        u = self.slinear1(input)  # [Batch, 784, 20] -> [Batch, 256, 20]\n",
    "        u = self.slinear2(u)      # [Batch, 256, 20] -> [Batch, 10, 20]\n",
    "        u = self.outact(u)        # [128, 10]\n",
    "        \n",
    "        return u\n",
    "        \n",
    "class SpikeCELoss(nn.Module):\n",
    "    def __init__(self, T, xi, tau_s):\n",
    "        super(SpikeCELoss, self).__init__()\n",
    "        self.xi    = xi\n",
    "        self.tau_s = tau_s\n",
    "        self.celoss = nn.CrossEntropyLoss()\n",
    "        \n",
    "    def forward(self, input, target):\n",
    "        loss = self.celoss(-input / (self.xi * self.tau_s), target)\n",
    "        return loss"
   ]
  },
  {
   "cell_type": "code",
   "execution_count": 6,
   "metadata": {},
   "outputs": [],
   "source": [
    "data_folder = \"data\" \n",
    "print_freq = 100\n",
    "epochs = 20\n",
    "lr = 1\n",
    "batch_size = 512\n",
    "xi = 0.4\n",
    "alpha = 0.01\n",
    "beta = 2\n",
    "T = 50 # 20\n",
    "dt = 1\n",
    "tau_m = 20.0\n",
    "tau_s = 5.0\n",
    "t_max = 12.0\n",
    "t_min = 2.0\n",
    "\n",
    "def Latency_Coding(data): # Data [Batch, Channel, Width, Height] \n",
    "    spike_data = t_min + (t_max - t_min) * (data < 0.5).view(data.shape[0], -1)\n",
    "    spike_data = F.one_hot(spike_data.long(), int(T))\n",
    "    \n",
    "    return spike_data"
   ]
  },
  {
   "cell_type": "code",
   "execution_count": 7,
   "metadata": {},
   "outputs": [],
   "source": [
    "def train(model, criterion, optimizer, loader):\n",
    "    total_correct = 0.\n",
    "    total_loss = 0.\n",
    "    total_samples = 0.\n",
    "\n",
    "    model.train()\n",
    "    for batch_idx, (input, target) in tqdm(enumerate(loader)):\n",
    "        # input = spikegen.latency(input, num_steps=T, tau=20, threshold=0.01, \n",
    "        #                          clip=True, normalize=True, linear=True)\n",
    "        \n",
    "        # input = torch.permute(input, (1, 2, 3, 4, 0))\n",
    "        # input = input.view(input.shape[0], input.shape[2]*input.shape[3], input.shape[4])\n",
    "       \n",
    "        input, target = Latency_Coding(input).to(device), target.to(device)\n",
    "        # input, target = input.to(device), target.to(device)\n",
    "        \n",
    "        total_correct = 0.\n",
    "        total_loss    = 0.\n",
    "        total_samples = 0.\n",
    "        \n",
    "        output = model(input) ### Shape [128, 10]\n",
    "        loss = criterion(output, target)\n",
    "    \n",
    "        predictions    = output.detach().min(1, keepdim=True)[1] # [128, 1] select index of the lowest element \n",
    "\n",
    "        ## Element-wise comparison with .eq/ correct labels counts\n",
    "        total_correct += predictions.eq(target.detach().view_as(predictions)).sum().item()\n",
    "        total_loss    += loss.item() * len(target)\n",
    "        total_samples += len(target)\n",
    "        \n",
    "        optimizer.zero_grad()\n",
    "        loss.backward()\n",
    "        \n",
    "        optimizer.step()\n",
    "\n",
    "        if batch_idx % print_freq == 0:\n",
    "            print('\\tBatch {:03d}/{:03d}: \\tAcc {:.2f}  Loss {:.3f}'.format(batch_idx, len(loader), 100*total_correct/total_samples, total_loss/total_samples))\n",
    "\n",
    "    print('\\t\\tTrain: \\tAcc {:.2f}  Loss {:.3f}'.format(100*total_correct/total_samples, total_loss/total_samples))\n",
    "    \n",
    "    return model\n",
    "\n",
    "\n",
    "def test(model, criterion, loader):\n",
    "    total_correct = 0.\n",
    "    total_samples = 0.\n",
    "    total_test_loss = 0.\n",
    "    \n",
    "    model.eval()\n",
    "    with torch.no_grad():\n",
    "        for batch_idx, (data, target) in enumerate(loader):\n",
    "            # spike_data = spikegen.latency(data, num_steps=T, tau=20, threshold=0.01, \n",
    "            #                      clip=True, normalize=True, linear=True)\n",
    "            \n",
    "            # spike_data = torch.permute(spike_data, (1, 2, 3, 4, 0))\n",
    "            \n",
    "            # spike_data = spike_data.view(spike_data.shape[0], spike_data.shape[2]*spike_data.shape[3], spike_data.shape[4])\n",
    "            \n",
    "            spike_data, target = Latency_Coding(data).to(device), target.to(device)\n",
    "\n",
    "            # spike_data, target = spike_data.to(device), target.to(device)\n",
    "            \n",
    "            first_post_spikes = model(spike_data)\n",
    "            test_loss   = criterion(first_post_spikes, target)\n",
    "\n",
    "            predictions = first_post_spikes.data.min(1, keepdim=True)[1]\n",
    "            total_correct   += predictions.eq(target.data.view_as(predictions)).sum().item()\n",
    "            total_test_loss += test_loss.item() * len(target)\n",
    "            total_samples += len(target)\n",
    "        \n",
    "        Test_Loss = total_test_loss/total_samples\n",
    "        Test_Accuracy = 100*total_correct/total_samples    \n",
    "        \n",
    "        print('\\t\\tTest: \\tAcc {:.2f}  Loss {:.3f}'.format(100*total_correct/total_samples, total_test_loss/total_samples))\n",
    "\n",
    "    return Test_Loss, Test_Accuracy"
   ]
  },
  {
   "cell_type": "code",
   "execution_count": 8,
   "metadata": {},
   "outputs": [],
   "source": [
    "from torchvision import datasets, transforms\n",
    "\n",
    "transform = transforms.Compose([\n",
    "            transforms.Resize((28, 28)),\n",
    "            transforms.Grayscale(),\n",
    "            transforms.ToTensor(),\n",
    "            transforms.Normalize((0,), (1,))])\n",
    "\n",
    "train_dataset = datasets.MNIST('/tmp/data/mnist', train=True, download=True, transform=transform)\n",
    "test_dataset  = datasets.MNIST('/tmp/data/mnist', train=False, download=True, transform=transform)\n",
    "\n",
    "train_loader  = torch.utils.data.DataLoader(train_dataset, batch_size=batch_size, shuffle=True)\n",
    "test_loader   = torch.utils.data.DataLoader(test_dataset, batch_size=batch_size, shuffle=False)"
   ]
  },
  {
   "cell_type": "code",
   "execution_count": 9,
   "metadata": {},
   "outputs": [
    {
     "name": "stderr",
     "output_type": "stream",
     "text": [
      "  0%|          | 0/20 [00:00<?, ?it/s]"
     ]
    },
    {
     "name": "stdout",
     "output_type": "stream",
     "text": [
      "\tBatch 000/118: \tAcc 12.50  Loss 2.301\n"
     ]
    },
    {
     "name": "stderr",
     "output_type": "stream",
     "text": []
    },
    {
     "name": "stdout",
     "output_type": "stream",
     "text": [
      "\tBatch 100/118: \tAcc 69.92  Loss 0.884\n"
     ]
    },
    {
     "name": "stderr",
     "output_type": "stream",
     "text": [
      "118it [02:17,  1.17s/it]\n"
     ]
    },
    {
     "name": "stdout",
     "output_type": "stream",
     "text": [
      "\t\tTrain: \tAcc 77.08  Loss 0.782\n"
     ]
    },
    {
     "name": "stderr",
     "output_type": "stream",
     "text": [
      "  5%|▌         | 1/20 [02:23<45:34, 143.90s/it]"
     ]
    },
    {
     "name": "stdout",
     "output_type": "stream",
     "text": [
      "\t\tTest: \tAcc 81.93  Loss 0.711\n",
      "Epoch 000/020\n"
     ]
    },
    {
     "name": "stderr",
     "output_type": "stream",
     "text": []
    },
    {
     "name": "stdout",
     "output_type": "stream",
     "text": [
      "\tBatch 000/118: \tAcc 72.66  Loss 0.994\n"
     ]
    },
    {
     "name": "stderr",
     "output_type": "stream",
     "text": []
    },
    {
     "name": "stdout",
     "output_type": "stream",
     "text": [
      "\tBatch 100/118: \tAcc 88.87  Loss 0.452\n"
     ]
    },
    {
     "name": "stderr",
     "output_type": "stream",
     "text": [
      "118it [02:16,  1.16s/it]\n"
     ]
    },
    {
     "name": "stdout",
     "output_type": "stream",
     "text": [
      "\t\tTrain: \tAcc 79.17  Loss 0.595\n"
     ]
    },
    {
     "name": "stderr",
     "output_type": "stream",
     "text": [
      " 10%|█         | 2/20 [04:49<43:24, 144.68s/it]"
     ]
    },
    {
     "name": "stdout",
     "output_type": "stream",
     "text": [
      "\t\tTest: \tAcc 81.91  Loss 0.616\n",
      "Epoch 001/020\n"
     ]
    },
    {
     "name": "stderr",
     "output_type": "stream",
     "text": []
    },
    {
     "name": "stdout",
     "output_type": "stream",
     "text": [
      "\tBatch 000/118: \tAcc 79.69  Loss 0.678\n"
     ]
    },
    {
     "name": "stderr",
     "output_type": "stream",
     "text": []
    },
    {
     "name": "stdout",
     "output_type": "stream",
     "text": [
      "\tBatch 100/118: \tAcc 79.88  Loss 0.616\n"
     ]
    },
    {
     "name": "stderr",
     "output_type": "stream",
     "text": [
      "118it [02:12,  1.12s/it]\n"
     ]
    },
    {
     "name": "stdout",
     "output_type": "stream",
     "text": [
      "\t\tTrain: \tAcc 90.62  Loss 0.432\n"
     ]
    },
    {
     "name": "stderr",
     "output_type": "stream",
     "text": [
      " 15%|█▌        | 3/20 [07:08<40:20, 142.38s/it]"
     ]
    },
    {
     "name": "stdout",
     "output_type": "stream",
     "text": [
      "\t\tTest: \tAcc 88.38  Loss 0.431\n",
      "Epoch 002/020\n"
     ]
    },
    {
     "name": "stderr",
     "output_type": "stream",
     "text": []
    },
    {
     "name": "stdout",
     "output_type": "stream",
     "text": [
      "\tBatch 000/118: \tAcc 89.45  Loss 0.415\n"
     ]
    },
    {
     "name": "stderr",
     "output_type": "stream",
     "text": []
    },
    {
     "name": "stdout",
     "output_type": "stream",
     "text": [
      "\tBatch 100/118: \tAcc 78.71  Loss 0.650\n"
     ]
    },
    {
     "name": "stderr",
     "output_type": "stream",
     "text": [
      "118it [02:09,  1.09s/it]\n"
     ]
    },
    {
     "name": "stdout",
     "output_type": "stream",
     "text": [
      "\t\tTrain: \tAcc 89.58  Loss 0.455\n"
     ]
    },
    {
     "name": "stderr",
     "output_type": "stream",
     "text": [
      " 20%|██        | 4/20 [09:24<37:17, 139.87s/it]"
     ]
    },
    {
     "name": "stdout",
     "output_type": "stream",
     "text": [
      "\t\tTest: \tAcc 90.05  Loss 0.392\n",
      "Epoch 003/020\n"
     ]
    },
    {
     "name": "stderr",
     "output_type": "stream",
     "text": []
    },
    {
     "name": "stdout",
     "output_type": "stream",
     "text": [
      "\tBatch 000/118: \tAcc 90.82  Loss 0.391\n"
     ]
    },
    {
     "name": "stderr",
     "output_type": "stream",
     "text": []
    },
    {
     "name": "stdout",
     "output_type": "stream",
     "text": [
      "\tBatch 100/118: \tAcc 81.84  Loss 0.636\n"
     ]
    },
    {
     "name": "stderr",
     "output_type": "stream",
     "text": [
      "118it [02:12,  1.13s/it]\n"
     ]
    },
    {
     "name": "stdout",
     "output_type": "stream",
     "text": [
      "\t\tTrain: \tAcc 87.50  Loss 0.433\n"
     ]
    },
    {
     "name": "stderr",
     "output_type": "stream",
     "text": [
      " 25%|██▌       | 5/20 [11:44<34:57, 139.85s/it]"
     ]
    },
    {
     "name": "stdout",
     "output_type": "stream",
     "text": [
      "\t\tTest: \tAcc 89.40  Loss 0.403\n",
      "Epoch 004/020\n"
     ]
    },
    {
     "name": "stderr",
     "output_type": "stream",
     "text": []
    },
    {
     "name": "stdout",
     "output_type": "stream",
     "text": [
      "\tBatch 000/118: \tAcc 87.11  Loss 0.480\n"
     ]
    },
    {
     "name": "stderr",
     "output_type": "stream",
     "text": []
    },
    {
     "name": "stdout",
     "output_type": "stream",
     "text": [
      "\tBatch 100/118: \tAcc 90.43  Loss 0.402\n"
     ]
    },
    {
     "name": "stderr",
     "output_type": "stream",
     "text": [
      "118it [02:08,  1.09s/it]\n"
     ]
    },
    {
     "name": "stdout",
     "output_type": "stream",
     "text": [
      "\t\tTrain: \tAcc 91.67  Loss 0.429\n"
     ]
    },
    {
     "name": "stderr",
     "output_type": "stream",
     "text": [
      " 30%|███       | 6/20 [14:00<32:18, 138.49s/it]"
     ]
    },
    {
     "name": "stdout",
     "output_type": "stream",
     "text": [
      "\t\tTest: \tAcc 87.64  Loss 0.446\n",
      "Epoch 005/020\n"
     ]
    },
    {
     "name": "stderr",
     "output_type": "stream",
     "text": []
    },
    {
     "name": "stdout",
     "output_type": "stream",
     "text": [
      "\tBatch 000/118: \tAcc 85.74  Loss 0.483\n"
     ]
    },
    {
     "name": "stderr",
     "output_type": "stream",
     "text": []
    },
    {
     "name": "stdout",
     "output_type": "stream",
     "text": [
      "\tBatch 100/118: \tAcc 88.28  Loss 0.425\n"
     ]
    },
    {
     "name": "stderr",
     "output_type": "stream",
     "text": [
      "118it [02:14,  1.14s/it]\n"
     ]
    },
    {
     "name": "stdout",
     "output_type": "stream",
     "text": [
      "\t\tTrain: \tAcc 77.08  Loss 0.633\n"
     ]
    },
    {
     "name": "stderr",
     "output_type": "stream",
     "text": [
      " 35%|███▌      | 7/20 [16:22<30:16, 139.73s/it]"
     ]
    },
    {
     "name": "stdout",
     "output_type": "stream",
     "text": [
      "\t\tTest: \tAcc 76.61  Loss 0.594\n",
      "Epoch 006/020\n"
     ]
    },
    {
     "name": "stderr",
     "output_type": "stream",
     "text": []
    },
    {
     "name": "stdout",
     "output_type": "stream",
     "text": [
      "\tBatch 000/118: \tAcc 78.91  Loss 0.633\n"
     ]
    },
    {
     "name": "stderr",
     "output_type": "stream",
     "text": []
    },
    {
     "name": "stdout",
     "output_type": "stream",
     "text": [
      "\tBatch 100/118: \tAcc 87.89  Loss 0.364\n"
     ]
    },
    {
     "name": "stderr",
     "output_type": "stream",
     "text": [
      "118it [02:02,  1.03s/it]\n"
     ]
    },
    {
     "name": "stdout",
     "output_type": "stream",
     "text": [
      "\t\tTrain: \tAcc 88.54  Loss 0.422\n"
     ]
    },
    {
     "name": "stderr",
     "output_type": "stream",
     "text": [
      " 40%|████      | 8/20 [18:29<27:08, 135.75s/it]"
     ]
    },
    {
     "name": "stdout",
     "output_type": "stream",
     "text": [
      "\t\tTest: \tAcc 89.03  Loss 0.399\n",
      "Epoch 007/020\n"
     ]
    },
    {
     "name": "stderr",
     "output_type": "stream",
     "text": []
    },
    {
     "name": "stdout",
     "output_type": "stream",
     "text": [
      "\tBatch 000/118: \tAcc 88.09  Loss 0.410\n"
     ]
    },
    {
     "name": "stderr",
     "output_type": "stream",
     "text": []
    },
    {
     "name": "stdout",
     "output_type": "stream",
     "text": [
      "\tBatch 100/118: \tAcc 89.84  Loss 0.351\n"
     ]
    },
    {
     "name": "stderr",
     "output_type": "stream",
     "text": [
      "118it [01:51,  1.06it/s]\n"
     ]
    },
    {
     "name": "stdout",
     "output_type": "stream",
     "text": [
      "\t\tTrain: \tAcc 96.88  Loss 0.173\n"
     ]
    },
    {
     "name": "stderr",
     "output_type": "stream",
     "text": [
      " 45%|████▌     | 9/20 [20:26<23:48, 129.88s/it]"
     ]
    },
    {
     "name": "stdout",
     "output_type": "stream",
     "text": [
      "\t\tTest: \tAcc 89.49  Loss 0.392\n",
      "Epoch 008/020\n"
     ]
    },
    {
     "name": "stderr",
     "output_type": "stream",
     "text": []
    },
    {
     "name": "stdout",
     "output_type": "stream",
     "text": [
      "\tBatch 000/118: \tAcc 89.65  Loss 0.373\n"
     ]
    },
    {
     "name": "stderr",
     "output_type": "stream",
     "text": []
    },
    {
     "name": "stdout",
     "output_type": "stream",
     "text": [
      "\tBatch 100/118: \tAcc 85.55  Loss 0.429\n"
     ]
    },
    {
     "name": "stderr",
     "output_type": "stream",
     "text": [
      "118it [01:59,  1.01s/it]\n"
     ]
    },
    {
     "name": "stdout",
     "output_type": "stream",
     "text": [
      "\t\tTrain: \tAcc 77.08  Loss 0.619\n"
     ]
    },
    {
     "name": "stderr",
     "output_type": "stream",
     "text": [
      " 50%|█████     | 10/20 [22:31<21:23, 128.32s/it]"
     ]
    },
    {
     "name": "stdout",
     "output_type": "stream",
     "text": [
      "\t\tTest: \tAcc 79.22  Loss 0.717\n",
      "Epoch 009/020\n"
     ]
    },
    {
     "name": "stderr",
     "output_type": "stream",
     "text": []
    },
    {
     "name": "stdout",
     "output_type": "stream",
     "text": [
      "\tBatch 000/118: \tAcc 80.47  Loss 0.709\n"
     ]
    },
    {
     "name": "stderr",
     "output_type": "stream",
     "text": []
    },
    {
     "name": "stdout",
     "output_type": "stream",
     "text": [
      "\tBatch 100/118: \tAcc 90.23  Loss 0.379\n"
     ]
    },
    {
     "name": "stderr",
     "output_type": "stream",
     "text": [
      "118it [01:52,  1.05it/s]\n"
     ]
    },
    {
     "name": "stdout",
     "output_type": "stream",
     "text": [
      "\t\tTrain: \tAcc 76.04  Loss 0.692\n"
     ]
    },
    {
     "name": "stderr",
     "output_type": "stream",
     "text": [
      " 55%|█████▌    | 11/20 [24:28<18:43, 124.88s/it]"
     ]
    },
    {
     "name": "stdout",
     "output_type": "stream",
     "text": [
      "\t\tTest: \tAcc 78.33  Loss 0.645\n",
      "Epoch 010/020\n"
     ]
    },
    {
     "name": "stderr",
     "output_type": "stream",
     "text": []
    },
    {
     "name": "stdout",
     "output_type": "stream",
     "text": [
      "\tBatch 000/118: \tAcc 80.27  Loss 0.614\n"
     ]
    },
    {
     "name": "stderr",
     "output_type": "stream",
     "text": []
    },
    {
     "name": "stdout",
     "output_type": "stream",
     "text": [
      "\tBatch 100/118: \tAcc 84.96  Loss 0.449\n"
     ]
    },
    {
     "name": "stderr",
     "output_type": "stream",
     "text": [
      "118it [02:00,  1.03s/it]\n"
     ]
    },
    {
     "name": "stdout",
     "output_type": "stream",
     "text": [
      "\t\tTrain: \tAcc 88.54  Loss 0.478\n"
     ]
    },
    {
     "name": "stderr",
     "output_type": "stream",
     "text": [
      " 60%|██████    | 12/20 [26:36<16:45, 125.71s/it]"
     ]
    },
    {
     "name": "stdout",
     "output_type": "stream",
     "text": [
      "\t\tTest: \tAcc 89.43  Loss 0.379\n",
      "Epoch 011/020\n"
     ]
    },
    {
     "name": "stderr",
     "output_type": "stream",
     "text": []
    },
    {
     "name": "stdout",
     "output_type": "stream",
     "text": [
      "\tBatch 000/118: \tAcc 89.26  Loss 0.378\n"
     ]
    },
    {
     "name": "stderr",
     "output_type": "stream",
     "text": []
    },
    {
     "name": "stdout",
     "output_type": "stream",
     "text": [
      "\tBatch 100/118: \tAcc 92.97  Loss 0.334\n"
     ]
    },
    {
     "name": "stderr",
     "output_type": "stream",
     "text": [
      "118it [01:58,  1.00s/it]\n"
     ]
    },
    {
     "name": "stdout",
     "output_type": "stream",
     "text": [
      "\t\tTrain: \tAcc 89.58  Loss 0.397\n"
     ]
    },
    {
     "name": "stderr",
     "output_type": "stream",
     "text": [
      " 65%|██████▌   | 13/20 [28:40<14:37, 125.35s/it]"
     ]
    },
    {
     "name": "stdout",
     "output_type": "stream",
     "text": [
      "\t\tTest: \tAcc 89.03  Loss 0.394\n",
      "Epoch 012/020\n"
     ]
    },
    {
     "name": "stderr",
     "output_type": "stream",
     "text": []
    },
    {
     "name": "stdout",
     "output_type": "stream",
     "text": [
      "\tBatch 000/118: \tAcc 88.87  Loss 0.405\n"
     ]
    },
    {
     "name": "stderr",
     "output_type": "stream",
     "text": []
    },
    {
     "name": "stdout",
     "output_type": "stream",
     "text": [
      "\tBatch 100/118: \tAcc 88.87  Loss 0.404\n"
     ]
    },
    {
     "name": "stderr",
     "output_type": "stream",
     "text": [
      "118it [02:00,  1.02s/it]\n"
     ]
    },
    {
     "name": "stdout",
     "output_type": "stream",
     "text": [
      "\t\tTrain: \tAcc 88.54  Loss 0.390\n"
     ]
    },
    {
     "name": "stderr",
     "output_type": "stream",
     "text": [
      " 70%|███████   | 14/20 [30:46<12:32, 125.49s/it]"
     ]
    },
    {
     "name": "stdout",
     "output_type": "stream",
     "text": [
      "\t\tTest: \tAcc 88.40  Loss 0.432\n",
      "Epoch 013/020\n"
     ]
    },
    {
     "name": "stderr",
     "output_type": "stream",
     "text": []
    },
    {
     "name": "stdout",
     "output_type": "stream",
     "text": [
      "\tBatch 000/118: \tAcc 86.52  Loss 0.513\n"
     ]
    },
    {
     "name": "stderr",
     "output_type": "stream",
     "text": []
    },
    {
     "name": "stdout",
     "output_type": "stream",
     "text": [
      "\tBatch 100/118: \tAcc 89.06  Loss 0.362\n"
     ]
    },
    {
     "name": "stderr",
     "output_type": "stream",
     "text": [
      "118it [02:03,  1.05s/it]\n"
     ]
    },
    {
     "name": "stdout",
     "output_type": "stream",
     "text": [
      "\t\tTrain: \tAcc 94.79  Loss 0.236\n"
     ]
    },
    {
     "name": "stderr",
     "output_type": "stream",
     "text": [
      " 75%|███████▌  | 15/20 [32:56<10:34, 126.84s/it]"
     ]
    },
    {
     "name": "stdout",
     "output_type": "stream",
     "text": [
      "\t\tTest: \tAcc 90.05  Loss 0.364\n",
      "Epoch 014/020\n"
     ]
    },
    {
     "name": "stderr",
     "output_type": "stream",
     "text": []
    },
    {
     "name": "stdout",
     "output_type": "stream",
     "text": [
      "\tBatch 000/118: \tAcc 88.87  Loss 0.413\n"
     ]
    },
    {
     "name": "stderr",
     "output_type": "stream",
     "text": []
    },
    {
     "name": "stdout",
     "output_type": "stream",
     "text": [
      "\tBatch 100/118: \tAcc 90.43  Loss 0.366\n"
     ]
    },
    {
     "name": "stderr",
     "output_type": "stream",
     "text": [
      "118it [01:54,  1.03it/s]\n"
     ]
    },
    {
     "name": "stdout",
     "output_type": "stream",
     "text": [
      "\t\tTrain: \tAcc 93.75  Loss 0.245\n"
     ]
    },
    {
     "name": "stderr",
     "output_type": "stream",
     "text": [
      " 80%|████████  | 16/20 [34:57<08:20, 125.11s/it]"
     ]
    },
    {
     "name": "stdout",
     "output_type": "stream",
     "text": [
      "\t\tTest: \tAcc 90.08  Loss 0.361\n",
      "Epoch 015/020\n"
     ]
    },
    {
     "name": "stderr",
     "output_type": "stream",
     "text": []
    },
    {
     "name": "stdout",
     "output_type": "stream",
     "text": [
      "\tBatch 000/118: \tAcc 89.45  Loss 0.401\n"
     ]
    },
    {
     "name": "stderr",
     "output_type": "stream",
     "text": []
    },
    {
     "name": "stdout",
     "output_type": "stream",
     "text": [
      "\tBatch 100/118: \tAcc 88.28  Loss 0.432\n"
     ]
    },
    {
     "name": "stderr",
     "output_type": "stream",
     "text": [
      "118it [02:01,  1.03s/it]\n"
     ]
    },
    {
     "name": "stdout",
     "output_type": "stream",
     "text": [
      "\t\tTrain: \tAcc 79.17  Loss 0.802\n"
     ]
    },
    {
     "name": "stderr",
     "output_type": "stream",
     "text": [
      " 85%|████████▌ | 17/20 [37:04<06:16, 125.52s/it]"
     ]
    },
    {
     "name": "stdout",
     "output_type": "stream",
     "text": [
      "\t\tTest: \tAcc 79.29  Loss 0.769\n",
      "Epoch 016/020\n"
     ]
    },
    {
     "name": "stderr",
     "output_type": "stream",
     "text": []
    },
    {
     "name": "stdout",
     "output_type": "stream",
     "text": [
      "\tBatch 000/118: \tAcc 76.56  Loss 0.772\n"
     ]
    },
    {
     "name": "stderr",
     "output_type": "stream",
     "text": []
    },
    {
     "name": "stdout",
     "output_type": "stream",
     "text": [
      "\tBatch 100/118: \tAcc 91.99  Loss 0.321\n"
     ]
    },
    {
     "name": "stderr",
     "output_type": "stream",
     "text": [
      "118it [01:54,  1.03it/s]\n"
     ]
    },
    {
     "name": "stdout",
     "output_type": "stream",
     "text": [
      "\t\tTrain: \tAcc 91.67  Loss 0.258\n"
     ]
    },
    {
     "name": "stderr",
     "output_type": "stream",
     "text": [
      " 90%|█████████ | 18/20 [39:04<04:07, 123.95s/it]"
     ]
    },
    {
     "name": "stdout",
     "output_type": "stream",
     "text": [
      "\t\tTest: \tAcc 90.19  Loss 0.358\n",
      "Epoch 017/020\n"
     ]
    },
    {
     "name": "stderr",
     "output_type": "stream",
     "text": []
    },
    {
     "name": "stdout",
     "output_type": "stream",
     "text": [
      "\tBatch 000/118: \tAcc 91.80  Loss 0.303\n"
     ]
    },
    {
     "name": "stderr",
     "output_type": "stream",
     "text": []
    },
    {
     "name": "stdout",
     "output_type": "stream",
     "text": [
      "\tBatch 100/118: \tAcc 90.04  Loss 0.401\n"
     ]
    },
    {
     "name": "stderr",
     "output_type": "stream",
     "text": [
      "118it [02:00,  1.03s/it]\n"
     ]
    },
    {
     "name": "stdout",
     "output_type": "stream",
     "text": [
      "\t\tTrain: \tAcc 96.88  Loss 0.148\n"
     ]
    },
    {
     "name": "stderr",
     "output_type": "stream",
     "text": [
      " 95%|█████████▌| 19/20 [41:12<02:05, 125.05s/it]"
     ]
    },
    {
     "name": "stdout",
     "output_type": "stream",
     "text": [
      "\t\tTest: \tAcc 90.14  Loss 0.353\n",
      "Epoch 018/020\n"
     ]
    },
    {
     "name": "stderr",
     "output_type": "stream",
     "text": []
    },
    {
     "name": "stdout",
     "output_type": "stream",
     "text": [
      "\tBatch 000/118: \tAcc 91.60  Loss 0.309\n"
     ]
    },
    {
     "name": "stderr",
     "output_type": "stream",
     "text": []
    },
    {
     "name": "stdout",
     "output_type": "stream",
     "text": [
      "\tBatch 100/118: \tAcc 90.82  Loss 0.354\n"
     ]
    },
    {
     "name": "stderr",
     "output_type": "stream",
     "text": [
      "118it [02:02,  1.04s/it]\n"
     ]
    },
    {
     "name": "stdout",
     "output_type": "stream",
     "text": [
      "\t\tTrain: \tAcc 85.42  Loss 0.431\n"
     ]
    },
    {
     "name": "stderr",
     "output_type": "stream",
     "text": [
      "100%|██████████| 20/20 [43:20<00:00, 130.00s/it]"
     ]
    },
    {
     "name": "stdout",
     "output_type": "stream",
     "text": [
      "\t\tTest: \tAcc 90.63  Loss 0.347\n",
      "Epoch 019/020\n"
     ]
    },
    {
     "name": "stderr",
     "output_type": "stream",
     "text": [
      "\n"
     ]
    }
   ],
   "source": [
    "model = SNN(784, 10, T, dt, tau_m, tau_s).to(device)\n",
    "criterion = SpikeCELoss(T, xi, tau_s)\n",
    "# optimizer = torch.optim.SGD(model.parameters(), lr=lr)\n",
    "optimizer = torch.optim.Adam(model.parameters(), lr=0.005, betas=(0.9, 0.999), \n",
    "                             eps=1e-08)\n",
    "\n",
    "# scheduler = torch.optim.lr_scheduler.StepLR(optimizer, step_size=1, gamma=0.95)\n",
    "scheduler = torch.optim.lr_scheduler.ExponentialLR(optimizer, gamma=0.90)\n",
    "\n",
    "Loss = []\n",
    "Accuracy = []\n",
    "for epoch in tqdm(range(epochs)) :\n",
    "    model = train(model, criterion, optimizer, train_loader)\n",
    "    Test_Loss, Test_Accuracy = test(model, criterion, test_loader)\n",
    "\n",
    "    Loss.append(Test_Loss)\n",
    "    Accuracy.append(Test_Accuracy)\n",
    "    \n",
    "    print('Epoch {:03d}/{:03d}'.format(epoch, epochs))\n",
    "\n",
    "    scheduler.step()"
   ]
  },
  {
   "cell_type": "code",
   "execution_count": 12,
   "metadata": {},
   "outputs": [
    {
     "data": {
      "image/png": "[encoded data removed]",
      "text/plain": [
       "<Figure size 700x400 with 1 Axes>"
      ]
     },
     "metadata": {},
     "output_type": "display_data"
    },
    {
     "data": {
      "image/png": "[encoded data removed]",
      "text/plain": [
       "<Figure size 700x400 with 1 Axes>"
      ]
     },
     "metadata": {},
     "output_type": "display_data"
    }
   ],
   "source": [
    "# Plot Loss\n",
    "fig = plt.figure(facecolor=\"w\", figsize=(7, 4))\n",
    "plt.plot(Loss)\n",
    "plt.title(\"Loss Curves MNIST\")\n",
    "plt.legend([\"Test Loss\"])\n",
    "plt.xlabel(\"Iteration\")\n",
    "plt.ylabel(\"Loss\")\n",
    "plt.show()\n",
    "\n",
    "fig = plt.figure(facecolor=\"w\", figsize=(7, 4))\n",
    "plt.plot(Accuracy)\n",
    "plt.title(\"Test MNIST\")\n",
    "plt.legend([\"Test Accuracy\"])\n",
    "plt.xlabel(\"Iteration\")\n",
    "plt.ylabel(\"Acc\")\n",
    "plt.show()"
   ]
  },
  {
   "cell_type": "code",
   "execution_count": null,
   "metadata": {},
   "outputs": [],
   "source": []
  }
 ],
 "metadata": {
  "kernelspec": {
   "display_name": "base",
   "language": "python",
   "name": "python3"
  },
  "language_info": {
   "codemirror_mode": {
    "name": "ipython",
    "version": 3
   },
   "file_extension": ".py",
   "mimetype": "text/x-python",
   "name": "python",
   "nbconvert_exporter": "python",
   "pygments_lexer": "ipython3",
   "version": "3.11.5"
  }
 },
 "nbformat": 4,
 "nbformat_minor": 2
}
