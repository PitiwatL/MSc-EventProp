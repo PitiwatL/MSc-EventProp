{
 "cells": [
  {
   "cell_type": "code",
   "execution_count": 16,
   "metadata": {},
   "outputs": [],
   "source": [
    "import pandas as pd\n",
    "import numpy as np\n",
    "import matplotlib.pyplot as plt\n",
    "from scipy.stats import norm\n",
    "import warnings\n",
    "from keras.datasets import mnist\n",
    "from utils.functions import Gaus_neuron, LIF_SNN\n",
    "import cv2\n",
    "\n",
    "warnings.filterwarnings(\"ignore\")\n",
    "(train_X, train_y), (test_X, test_y) = mnist.load_data()\n",
    "\n",
    "train_X = train_X[:, :, :, None]\n",
    "test_X  = test_X[:, :, :, None]"
   ]
  },
  {
   "cell_type": "code",
   "execution_count": 37,
   "metadata": {},
   "outputs": [],
   "source": [
    "TrainX, TestX = [], []\n",
    "\n",
    "for img in train_X:\n",
    "    img = cv2.resize(img, (10, 10))\n",
    "    img = img/255.0\n",
    "    img = img.reshape(1, 100)\n",
    "    TrainX.append(img[0])\n",
    "\n",
    "for img in test_X:\n",
    "    img = cv2.resize(img, (10, 10))\n",
    "    img = img/255.0\n",
    "    img = img.reshape(1, 100)\n",
    "    TestX.append(img[0])"
   ]
  },
  {
   "cell_type": "code",
   "execution_count": 39,
   "metadata": {},
   "outputs": [],
   "source": [
    "Column = [[] for idx in range(101)]\n",
    "\n",
    "for idx in range(60000):\n",
    "    for list_fea_idx in range(100):\n",
    "        Column[list_fea_idx].append(TrainX[idx][list_fea_idx])\n",
    "    Column[100].append(train_y[idx])"
   ]
  },
  {
   "cell_type": "code",
   "execution_count": 46,
   "metadata": {},
   "outputs": [],
   "source": [
    "lst_column = [str(idx) for idx in range(0, 100)]\n",
    "lst_column.append(\"Class\")\n",
    "\n",
    "\n",
    "df = pd.DataFrame(list(zip(*Column)), columns = lst_column)"
   ]
  },
  {
   "cell_type": "code",
   "execution_count": 50,
   "metadata": {},
   "outputs": [],
   "source": [
    "df.to_csv(\"Mnist.csv\", index=False)"
   ]
  },
  {
   "cell_type": "code",
   "execution_count": null,
   "metadata": {},
   "outputs": [],
   "source": []
  }
 ],
 "metadata": {
  "kernelspec": {
   "display_name": "base",
   "language": "python",
   "name": "python3"
  },
  "language_info": {
   "codemirror_mode": {
    "name": "ipython",
    "version": 3
   },
   "file_extension": ".py",
   "mimetype": "text/x-python",
   "name": "python",
   "nbconvert_exporter": "python",
   "pygments_lexer": "ipython3",
   "version": "3.11.5"
  }
 },
 "nbformat": 4,
 "nbformat_minor": 2
}
